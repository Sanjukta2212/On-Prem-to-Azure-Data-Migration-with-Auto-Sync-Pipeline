{
 "cells": [
  {
   "cell_type": "code",
   "execution_count": 0,
   "metadata": {
    "application/vnd.databricks.v1+cell": {
     "cellMetadata": {
      "byteLimit": 2048000,
      "rowLimit": 10000
     },
     "inputWidgets": {},
     "nuid": "d2c1732f-c673-4caa-b61d-8e1ae4305cf8",
     "showTitle": false,
     "title": ""
    }
   },
   "outputs": [
    {
     "output_type": "execute_result",
     "data": {
      "text/plain": [
       "[FileInfo(path='dbfs:/mnt/bronze/Sales/CountryRegionCurrency/', name='CountryRegionCurrency/', size=0, modificationTime=1712105093000),\n",
       " FileInfo(path='dbfs:/mnt/bronze/Sales/CreditCard/', name='CreditCard/', size=0, modificationTime=1712105086000),\n",
       " FileInfo(path='dbfs:/mnt/bronze/Sales/Currency/', name='Currency/', size=0, modificationTime=1712105094000),\n",
       " FileInfo(path='dbfs:/mnt/bronze/Sales/CurrencyRate/', name='CurrencyRate/', size=0, modificationTime=1712105077000),\n",
       " FileInfo(path='dbfs:/mnt/bronze/Sales/Customer/', name='Customer/', size=0, modificationTime=1712105077000),\n",
       " FileInfo(path='dbfs:/mnt/bronze/Sales/PersonCreditCard/', name='PersonCreditCard/', size=0, modificationTime=1712105084000),\n",
       " FileInfo(path='dbfs:/mnt/bronze/Sales/SalesOrderDetail/', name='SalesOrderDetail/', size=0, modificationTime=1712105080000),\n",
       " FileInfo(path='dbfs:/mnt/bronze/Sales/SalesOrderHeader/', name='SalesOrderHeader/', size=0, modificationTime=1712105085000),\n",
       " FileInfo(path='dbfs:/mnt/bronze/Sales/SalesOrderHeaderSalesReason/', name='SalesOrderHeaderSalesReason/', size=0, modificationTime=1712105077000),\n",
       " FileInfo(path='dbfs:/mnt/bronze/Sales/SalesPerson/', name='SalesPerson/', size=0, modificationTime=1712105092000),\n",
       " FileInfo(path='dbfs:/mnt/bronze/Sales/SalesPersonQuotaHistory/', name='SalesPersonQuotaHistory/', size=0, modificationTime=1712105091000),\n",
       " FileInfo(path='dbfs:/mnt/bronze/Sales/SalesReason/', name='SalesReason/', size=0, modificationTime=1712105091000),\n",
       " FileInfo(path='dbfs:/mnt/bronze/Sales/SalesTaxRate/', name='SalesTaxRate/', size=0, modificationTime=1712105092000),\n",
       " FileInfo(path='dbfs:/mnt/bronze/Sales/SalesTerritory/', name='SalesTerritory/', size=0, modificationTime=1712105088000),\n",
       " FileInfo(path='dbfs:/mnt/bronze/Sales/SalesTerritoryHistory/', name='SalesTerritoryHistory/', size=0, modificationTime=1712105094000),\n",
       " FileInfo(path='dbfs:/mnt/bronze/Sales/ShoppingCartItem/', name='ShoppingCartItem/', size=0, modificationTime=1712105090000),\n",
       " FileInfo(path='dbfs:/mnt/bronze/Sales/SpecialOffer/', name='SpecialOffer/', size=0, modificationTime=1712105075000),\n",
       " FileInfo(path='dbfs:/mnt/bronze/Sales/SpecialOfferProduct/', name='SpecialOfferProduct/', size=0, modificationTime=1712105078000),\n",
       " FileInfo(path='dbfs:/mnt/bronze/Sales/Store/', name='Store/', size=0, modificationTime=1712105077000)]"
      ]
     },
     "execution_count": 1,
     "metadata": {},
     "output_type": "execute_result"
    }
   ],
   "source": [
    "dbutils.fs.ls('mnt/bronze/Sales/')      #Connecting to bronze container"
   ]
  },
  {
   "cell_type": "code",
   "execution_count": 0,
   "metadata": {
    "application/vnd.databricks.v1+cell": {
     "cellMetadata": {
      "byteLimit": 2048000,
      "rowLimit": 10000
     },
     "inputWidgets": {},
     "nuid": "ea25b998-61d1-4d22-b2ea-c86927b91451",
     "showTitle": false,
     "title": ""
    }
   },
   "outputs": [
    {
     "output_type": "execute_result",
     "data": {
      "text/plain": [
       "[FileInfo(path='dbfs:/mnt/silver/Sales/', name='Sales/', size=0, modificationTime=1712187216000)]"
      ]
     },
     "execution_count": 2,
     "metadata": {},
     "output_type": "execute_result"
    }
   ],
   "source": [
    "dbutils.fs.ls('mnt/silver/')        #Connecting to silver container. At present, it will return nothing as its empty. "
   ]
  },
  {
   "cell_type": "code",
   "execution_count": 0,
   "metadata": {
    "application/vnd.databricks.v1+cell": {
     "cellMetadata": {
      "byteLimit": 2048000,
      "rowLimit": 10000
     },
     "inputWidgets": {},
     "nuid": "80c28211-f833-41e5-973a-b3e6f18e89ba",
     "showTitle": false,
     "title": ""
    }
   },
   "outputs": [],
   "source": [
    "input_path = '/mnt/bronze/Sales/Customer/Customer.parquet'       #We have the taken the input path of the bronze containerccc"
   ]
  },
  {
   "cell_type": "code",
   "execution_count": 0,
   "metadata": {
    "application/vnd.databricks.v1+cell": {
     "cellMetadata": {
      "byteLimit": 2048000,
      "rowLimit": 10000
     },
     "inputWidgets": {},
     "nuid": "89f3434d-81af-4edb-b11d-14ff6472d103",
     "showTitle": false,
     "title": ""
    }
   },
   "outputs": [],
   "source": [
    "df = spark.read.format('parquet').load(input_path)      #Creating a PySpark dataframe for the input file"
   ]
  },
  {
   "cell_type": "code",
   "execution_count": 0,
   "metadata": {
    "application/vnd.databricks.v1+cell": {
     "cellMetadata": {
      "byteLimit": 2048000,
      "rowLimit": 10000
     },
     "inputWidgets": {},
     "nuid": "15cdb794-3cab-4fb2-a72a-285fd8bab918",
     "showTitle": false,
     "title": ""
    }
   },
   "outputs": [
    {
     "output_type": "stream",
     "name": "stdout",
     "output_type": "stream",
     "text": [
      "+----------+--------+-------+-----------+-------------+--------------------+--------------------+\n|CustomerID|PersonID|StoreID|TerritoryID|AccountNumber|             rowguid|        ModifiedDate|\n+----------+--------+-------+-----------+-------------+--------------------+--------------------+\n|         1|    NULL|    934|          1|   AW00000001|3f5ae95e-b87d-4ae...|2014-09-12 11:15:...|\n|         2|    NULL|   1028|          1|   AW00000002|e552f657-a9af-4a7...|2014-09-12 11:15:...|\n|         3|    NULL|    642|          4|   AW00000003|130774b1-db21-4ef...|2014-09-12 11:15:...|\n|         4|    NULL|    932|          4|   AW00000004|ff862851-1daa-404...|2014-09-12 11:15:...|\n|         5|    NULL|   1026|          4|   AW00000005|83905bdc-6f5e-4f7...|2014-09-12 11:15:...|\n+----------+--------+-------+-----------+-------------+--------------------+--------------------+\nonly showing top 5 rows\n\n"
     ]
    }
   ],
   "source": [
    "df.show(5)"
   ]
  },
  {
   "cell_type": "markdown",
   "metadata": {
    "application/vnd.databricks.v1+cell": {
     "cellMetadata": {},
     "inputWidgets": {},
     "nuid": "b2491745-b013-40eb-a317-c7753f547889",
     "showTitle": false,
     "title": ""
    }
   },
   "source": [
    "When you create a PySpark dataframe, it's stored in a temporary location, making modifications straightforward."
   ]
  },
  {
   "cell_type": "code",
   "execution_count": 0,
   "metadata": {
    "application/vnd.databricks.v1+cell": {
     "cellMetadata": {
      "byteLimit": 2048000,
      "rowLimit": 10000
     },
     "inputWidgets": {},
     "nuid": "ff751e8b-f902-45fe-b604-ab390a26849f",
     "showTitle": false,
     "title": ""
    }
   },
   "outputs": [],
   "source": [
    "from pyspark.sql.functions import from_utc_timestamp, date_format\n",
    "from pyspark.sql.types import TimestampType\n",
    "\n",
    "df = df.withColumn(\"ModifiedDate\", date_format(from_utc_timestamp(df[\"ModifiedDate\"].cast(TimestampType()), \"UTC\"), \"yyyy-MM-dd\"))"
   ]
  },
  {
   "cell_type": "code",
   "execution_count": 0,
   "metadata": {
    "application/vnd.databricks.v1+cell": {
     "cellMetadata": {
      "byteLimit": 2048000,
      "rowLimit": 10000
     },
     "inputWidgets": {},
     "nuid": "7a5182b7-9135-4c71-a70e-75ab6ed25e34",
     "showTitle": false,
     "title": ""
    }
   },
   "outputs": [
    {
     "output_type": "stream",
     "name": "stdout",
     "output_type": "stream",
     "text": [
      "+----------+--------+-------+-----------+-------------+--------------------+------------+\n|CustomerID|PersonID|StoreID|TerritoryID|AccountNumber|             rowguid|ModifiedDate|\n+----------+--------+-------+-----------+-------------+--------------------+------------+\n|         1|    NULL|    934|          1|   AW00000001|3f5ae95e-b87d-4ae...|  2014-09-12|\n|         2|    NULL|   1028|          1|   AW00000002|e552f657-a9af-4a7...|  2014-09-12|\n|         3|    NULL|    642|          4|   AW00000003|130774b1-db21-4ef...|  2014-09-12|\n|         4|    NULL|    932|          4|   AW00000004|ff862851-1daa-404...|  2014-09-12|\n|         5|    NULL|   1026|          4|   AW00000005|83905bdc-6f5e-4f7...|  2014-09-12|\n+----------+--------+-------+-----------+-------------+--------------------+------------+\nonly showing top 5 rows\n\n"
     ]
    }
   ],
   "source": [
    "df.show(5)"
   ]
  },
  {
   "cell_type": "code",
   "execution_count": 0,
   "metadata": {
    "application/vnd.databricks.v1+cell": {
     "cellMetadata": {
      "byteLimit": 2048000,
      "implicitDf": true,
      "rowLimit": 10000
     },
     "inputWidgets": {},
     "nuid": "65c2c3d2-de0a-4a9a-8a07-8408e9fe6b2a",
     "showTitle": false,
     "title": ""
    }
   },
   "outputs": [
    {
     "output_type": "display_data",
     "data": {
      "text/html": [
       "<style scoped>\n",
       "  .table-result-container {\n",
       "    max-height: 300px;\n",
       "    overflow: auto;\n",
       "  }\n",
       "  table, th, td {\n",
       "    border: 1px solid black;\n",
       "    border-collapse: collapse;\n",
       "  }\n",
       "  th, td {\n",
       "    padding: 5px;\n",
       "  }\n",
       "  th {\n",
       "    text-align: left;\n",
       "  }\n",
       "</style><div class='table-result-container'><table class='table-result'><thead style='background-color: white'><tr><th>column1</th></tr></thead><tbody><tr><td>1</td></tr></tbody></table></div>"
      ]
     },
     "metadata": {
      "application/vnd.databricks.v1+output": {
       "addedWidgets": {},
       "aggData": [],
       "aggError": "",
       "aggOverflow": false,
       "aggSchema": [],
       "aggSeriesLimitReached": false,
       "aggType": "",
       "arguments": {},
       "columnCustomDisplayInfos": {},
       "data": [
        [
         1
        ]
       ],
       "datasetInfos": [],
       "dbfsResultPath": null,
       "isJsonSchema": true,
       "metadata": {
        "dataframeName": "_sqldf",
        "executionCount": 12
       },
       "overflow": false,
       "plotOptions": {
        "customPlotOptions": {},
        "displayType": "table",
        "pivotAggregation": null,
        "pivotColumns": null,
        "xColumns": null,
        "yColumns": null
       },
       "removedWidgets": [],
       "schema": [
        {
         "metadata": "{}",
         "name": "column1",
         "type": "\"integer\""
        }
       ],
       "type": "table"
      }
     },
     "output_type": "display_data"
    }
   ],
   "source": [
    "%sql\n",
    "\n",
    "-- Converting the dataframe to a temporary view and make use of SQL to view it.\n",
    "SELECT 1 AS column1"
   ]
  },
  {
   "cell_type": "markdown",
   "metadata": {
    "application/vnd.databricks.v1+cell": {
     "cellMetadata": {},
     "inputWidgets": {},
     "nuid": "7aebc21b-a5f5-4e4a-90c3-05002125b18a",
     "showTitle": false,
     "title": ""
    }
   },
   "source": [
    "# Doing Transformation for all the tables (Changing datetime to date format)"
   ]
  },
  {
   "cell_type": "code",
   "execution_count": 0,
   "metadata": {
    "application/vnd.databricks.v1+cell": {
     "cellMetadata": {
      "byteLimit": 2048000,
      "rowLimit": 10000
     },
     "inputWidgets": {},
     "nuid": "322b7bba-9383-4222-a744-e6923f2ddd51",
     "showTitle": false,
     "title": ""
    }
   },
   "outputs": [],
   "source": [
    "table_name = []\n",
    "\n",
    "# Iterating through the bronze container, getting the directory name, and appending it to the table name array.\n",
    "for i in dbutils.fs.ls('mnt/bronze/Sales/'):        \n",
    "    table_name.append(i.name.split('/')[0])"
   ]
  },
  {
   "cell_type": "code",
   "execution_count": 0,
   "metadata": {
    "application/vnd.databricks.v1+cell": {
     "cellMetadata": {
      "byteLimit": 2048000,
      "rowLimit": 10000
     },
     "inputWidgets": {},
     "nuid": "587316ac-4280-41ad-8534-ac7c69376e0a",
     "showTitle": false,
     "title": ""
    }
   },
   "outputs": [
    {
     "output_type": "execute_result",
     "data": {
      "text/plain": [
       "['CountryRegionCurrency',\n",
       " 'CreditCard',\n",
       " 'Currency',\n",
       " 'CurrencyRate',\n",
       " 'Customer',\n",
       " 'PersonCreditCard',\n",
       " 'SalesOrderDetail',\n",
       " 'SalesOrderHeader',\n",
       " 'SalesOrderHeaderSalesReason',\n",
       " 'SalesPerson',\n",
       " 'SalesPersonQuotaHistory',\n",
       " 'SalesReason',\n",
       " 'SalesTaxRate',\n",
       " 'SalesTerritory',\n",
       " 'SalesTerritoryHistory',\n",
       " 'ShoppingCartItem',\n",
       " 'SpecialOffer',\n",
       " 'SpecialOfferProduct',\n",
       " 'Store']"
      ]
     },
     "execution_count": 14,
     "metadata": {},
     "output_type": "execute_result"
    }
   ],
   "source": [
    "table_name"
   ]
  },
  {
   "cell_type": "markdown",
   "metadata": {
    "application/vnd.databricks.v1+cell": {
     "cellMetadata": {},
     "inputWidgets": {},
     "nuid": "e2311266-5376-40f9-9deb-49c32027c29c",
     "showTitle": false,
     "title": ""
    }
   },
   "source": [
    "## Level 1 Transformation\n",
    "                -"
   ]
  },
  {
   "cell_type": "code",
   "execution_count": 0,
   "metadata": {
    "application/vnd.databricks.v1+cell": {
     "cellMetadata": {
      "byteLimit": 2048000,
      "rowLimit": 10000
     },
     "inputWidgets": {},
     "nuid": "e6f901f7-37e8-4dc6-9632-dd52540f2224",
     "showTitle": false,
     "title": ""
    }
   },
   "outputs": [],
   "source": [
    "from pyspark.sql.functions import from_utc_timestamp, date_format\n",
    "from pyspark.sql.types import TimestampType\n",
    "\n",
    "# Outer for loop: - iterate through the array of tables that we have just created\n",
    "for i in table_name:\n",
    "    path = '/mnt/bronze/Sales/' + i +'/' + i + '.parquet'       #generating the input path\n",
    "    df = spark.read.format('parquet').load(path)        #creating the dataframe\n",
    "    column = df.columns     #iterating through the column names to check if any column is having \"date\" in it.\n",
    "\n",
    "    for col in column:\n",
    "        if \"Date\" in col or \"date\" in col:\n",
    "            df = df.withColumn(col, date_format(from_utc_timestamp(df[col].cast(TimestampType()), \"UTC\"), \"yyyy-MM-dd\")) #performing transformation\n",
    "\n",
    "    output_path = '/mnt/silver/Sales/' + i + '/'        #aftertransformation, transfering the output to silver container\n",
    "    df.write.format('delta').mode(\"overwrite\").save(output_path) #writing the transformed df to the datalake using the output path in delta format "
   ]
  },
  {
   "cell_type": "markdown",
   "metadata": {
    "application/vnd.databricks.v1+cell": {
     "cellMetadata": {},
     "inputWidgets": {},
     "nuid": "f59b53b2-6909-43f8-86ee-a7f3f1801d2e",
     "showTitle": false,
     "title": ""
    }
   },
   "source": [
    "Data from Source to Bronze container: Parquet format<br>\n",
    "Data from Bronze to Gold container: Delta format<br>\n",
    "Data from Silver to Gold container: Delta format<br>\n",
    "\n",
    "Delta format is built on top of Parquet format and it is developed by databricks. Delta format will have all the features that Parquet format already has along with some additional features ex: we can track different version history, it can also handle different schemas even if it is chaged in future."
   ]
  },
  {
   "cell_type": "code",
   "execution_count": 0,
   "metadata": {
    "application/vnd.databricks.v1+cell": {
     "cellMetadata": {
      "byteLimit": 2048000,
      "rowLimit": 10000
     },
     "inputWidgets": {},
     "nuid": "52bc13b2-f07c-470c-913d-b1035e66ed37",
     "showTitle": false,
     "title": ""
    }
   },
   "outputs": [
    {
     "output_type": "stream",
     "name": "stdout",
     "output_type": "stream",
     "text": [
      "+----------------+--------------------+-------------+--------------------+--------------------+------------+\n|BusinessEntityID|                Name|SalesPersonID|        Demographics|             rowguid|ModifiedDate|\n+----------------+--------------------+-------------+--------------------+--------------------+------------+\n|             292|Next-Door Bike Store|          279|<StoreSurvey xmln...|a22517e3-848d-4eb...|  2014-09-12|\n|             294|Professional Sale...|          276|<StoreSurvey xmln...|b50ca50b-c601-4a1...|  2014-09-12|\n|             296|      Riders Company|          277|<StoreSurvey xmln...|337c3688-1339-4e1...|  2014-09-12|\n|             298|  The Bike Mechanics|          275|<StoreSurvey xmln...|7894f278-f0c8-4d1...|  2014-09-12|\n|             300|   Nationwide Supply|          286|<StoreSurvey xmln...|c3fc9705-a8c4-4f3...|  2014-09-12|\n+----------------+--------------------+-------------+--------------------+--------------------+------------+\nonly showing top 5 rows\n\n"
     ]
    }
   ],
   "source": [
    "df.show(5)"
   ]
  }
 ],
 "metadata": {
  "application/vnd.databricks.v1+notebook": {
   "dashboards": [],
   "language": "python",
   "notebookMetadata": {
    "mostRecentlyExecutedCommandWithImplicitDF": {
     "commandId": 2664366603303704,
     "dataframes": [
      "_sqldf"
     ]
    },
    "pythonIndentUnit": 4
   },
   "notebookName": "bronze to silver",
   "widgets": {}
  }
 },
 "nbformat": 4,
 "nbformat_minor": 0
}
