{
 "cells": [
  {
   "cell_type": "code",
   "execution_count": 0,
   "metadata": {
    "application/vnd.databricks.v1+cell": {
     "cellMetadata": {
      "byteLimit": 2048000,
      "rowLimit": 10000
     },
     "inputWidgets": {},
     "nuid": "47b59ff2-bcd6-4030-9a0c-38917f2afac7",
     "showTitle": false,
     "title": ""
    }
   },
   "outputs": [
    {
     "output_type": "execute_result",
     "data": {
      "text/plain": [
       "[FileInfo(path='dbfs:/mnt/silver/Sales/CountryRegionCurrency/', name='CountryRegionCurrency/', size=0, modificationTime=1712187216000),\n",
       " FileInfo(path='dbfs:/mnt/silver/Sales/CreditCard/', name='CreditCard/', size=0, modificationTime=1712187234000),\n",
       " FileInfo(path='dbfs:/mnt/silver/Sales/Currency/', name='Currency/', size=0, modificationTime=1712187237000),\n",
       " FileInfo(path='dbfs:/mnt/silver/Sales/CurrencyRate/', name='CurrencyRate/', size=0, modificationTime=1712187240000),\n",
       " FileInfo(path='dbfs:/mnt/silver/Sales/Customer/', name='Customer/', size=0, modificationTime=1712187243000),\n",
       " FileInfo(path='dbfs:/mnt/silver/Sales/PersonCreditCard/', name='PersonCreditCard/', size=0, modificationTime=1712187246000),\n",
       " FileInfo(path='dbfs:/mnt/silver/Sales/SalesOrderDetail/', name='SalesOrderDetail/', size=0, modificationTime=1712187248000),\n",
       " FileInfo(path='dbfs:/mnt/silver/Sales/SalesOrderHeader/', name='SalesOrderHeader/', size=0, modificationTime=1712187251000),\n",
       " FileInfo(path='dbfs:/mnt/silver/Sales/SalesOrderHeaderSalesReason/', name='SalesOrderHeaderSalesReason/', size=0, modificationTime=1712187255000),\n",
       " FileInfo(path='dbfs:/mnt/silver/Sales/SalesPerson/', name='SalesPerson/', size=0, modificationTime=1712187256000),\n",
       " FileInfo(path='dbfs:/mnt/silver/Sales/SalesPersonQuotaHistory/', name='SalesPersonQuotaHistory/', size=0, modificationTime=1712187259000),\n",
       " FileInfo(path='dbfs:/mnt/silver/Sales/SalesReason/', name='SalesReason/', size=0, modificationTime=1712187261000),\n",
       " FileInfo(path='dbfs:/mnt/silver/Sales/SalesTaxRate/', name='SalesTaxRate/', size=0, modificationTime=1712187263000),\n",
       " FileInfo(path='dbfs:/mnt/silver/Sales/SalesTerritory/', name='SalesTerritory/', size=0, modificationTime=1712187266000),\n",
       " FileInfo(path='dbfs:/mnt/silver/Sales/SalesTerritoryHistory/', name='SalesTerritoryHistory/', size=0, modificationTime=1712187268000),\n",
       " FileInfo(path='dbfs:/mnt/silver/Sales/ShoppingCartItem/', name='ShoppingCartItem/', size=0, modificationTime=1712187270000),\n",
       " FileInfo(path='dbfs:/mnt/silver/Sales/SpecialOffer/', name='SpecialOffer/', size=0, modificationTime=1712187272000),\n",
       " FileInfo(path='dbfs:/mnt/silver/Sales/SpecialOfferProduct/', name='SpecialOfferProduct/', size=0, modificationTime=1712187274000),\n",
       " FileInfo(path='dbfs:/mnt/silver/Sales/Store/', name='Store/', size=0, modificationTime=1712187277000)]"
      ]
     },
     "execution_count": 2,
     "metadata": {},
     "output_type": "execute_result"
    }
   ],
   "source": [
    "dbutils.fs.ls('mnt/silver/Sales/')      #Connecting to silver container"
   ]
  },
  {
   "cell_type": "code",
   "execution_count": 0,
   "metadata": {
    "application/vnd.databricks.v1+cell": {
     "cellMetadata": {
      "byteLimit": 2048000,
      "rowLimit": 10000
     },
     "inputWidgets": {},
     "nuid": "2395b127-cd20-4e38-8f0b-1962d32169ee",
     "showTitle": false,
     "title": ""
    }
   },
   "outputs": [
    {
     "output_type": "execute_result",
     "data": {
      "text/plain": [
       "[FileInfo(path='dbfs:/mnt/gold/Sales/', name='Sales/', size=0, modificationTime=1712212590000)]"
      ]
     },
     "execution_count": 3,
     "metadata": {},
     "output_type": "execute_result"
    }
   ],
   "source": [
    "dbutils.fs.ls('mnt/gold/')        #Connecting to gold container. At present, it will return nothing as its empty. "
   ]
  },
  {
   "cell_type": "code",
   "execution_count": 0,
   "metadata": {
    "application/vnd.databricks.v1+cell": {
     "cellMetadata": {
      "byteLimit": 2048000,
      "rowLimit": 10000
     },
     "inputWidgets": {},
     "nuid": "993ab816-a906-4d0b-ab3c-4bcbc744ecb0",
     "showTitle": false,
     "title": ""
    }
   },
   "outputs": [],
   "source": [
    "input_path = '/mnt/silver/Sales/Customer'       #We have the taken the input path of the silver container"
   ]
  },
  {
   "cell_type": "code",
   "execution_count": 0,
   "metadata": {
    "application/vnd.databricks.v1+cell": {
     "cellMetadata": {
      "byteLimit": 2048000,
      "rowLimit": 10000
     },
     "inputWidgets": {},
     "nuid": "883a835c-e88a-4de5-b11f-ccccc4787e82",
     "showTitle": false,
     "title": ""
    }
   },
   "outputs": [],
   "source": [
    "df = spark.read.format('delta').load(input_path)      #Creating a PySpark dataframe for the input file"
   ]
  },
  {
   "cell_type": "code",
   "execution_count": 0,
   "metadata": {
    "application/vnd.databricks.v1+cell": {
     "cellMetadata": {
      "byteLimit": 2048000,
      "rowLimit": 10000
     },
     "inputWidgets": {},
     "nuid": "459319f6-c9ba-4c06-b5bc-60c0f2416d19",
     "showTitle": false,
     "title": ""
    }
   },
   "outputs": [
    {
     "output_type": "stream",
     "name": "stdout",
     "output_type": "stream",
     "text": [
      "+----------+--------+-------+-----------+-------------+--------------------+------------+\n|CustomerID|PersonID|StoreID|TerritoryID|AccountNumber|             rowguid|ModifiedDate|\n+----------+--------+-------+-----------+-------------+--------------------+------------+\n|         1|    NULL|    934|          1|   AW00000001|3f5ae95e-b87d-4ae...|  2014-09-12|\n|         2|    NULL|   1028|          1|   AW00000002|e552f657-a9af-4a7...|  2014-09-12|\n|         3|    NULL|    642|          4|   AW00000003|130774b1-db21-4ef...|  2014-09-12|\n|         4|    NULL|    932|          4|   AW00000004|ff862851-1daa-404...|  2014-09-12|\n|         5|    NULL|   1026|          4|   AW00000005|83905bdc-6f5e-4f7...|  2014-09-12|\n+----------+--------+-------+-----------+-------------+--------------------+------------+\nonly showing top 5 rows\n\n"
     ]
    }
   ],
   "source": [
    "df.show(5)     "
   ]
  },
  {
   "cell_type": "code",
   "execution_count": 0,
   "metadata": {
    "application/vnd.databricks.v1+cell": {
     "cellMetadata": {
      "byteLimit": 2048000,
      "rowLimit": 10000
     },
     "inputWidgets": {},
     "nuid": "e185c942-5dcc-4c4c-8d59-55488f018302",
     "showTitle": false,
     "title": ""
    }
   },
   "outputs": [],
   "source": [
    "from pyspark.sql import SparkSession\n",
    "from pyspark.sql.functions import col, regexp_replace\n",
    "\n",
    "#Obtaining list of columns\n",
    "column_name = df.columns\n",
    "\n",
    "\n",
    "for old_col_name in column_name:\n",
    "    #Convert ColumnName -> Column_Name format\n",
    "    new_col_name = \"\".join([\"_\" + char if char.isupper() and not old_col_name[i - 1].isupper() else char for i, char in enumerate(old_col_name)]).lstrip(\"_\")\n",
    "\n",
    "    #Change the column name using withColumnRename and regexp.replace\n",
    "    df = df.withColumnRenamed(old_col_name, new_col_name)"
   ]
  },
  {
   "cell_type": "code",
   "execution_count": 0,
   "metadata": {
    "application/vnd.databricks.v1+cell": {
     "cellMetadata": {
      "byteLimit": 2048000,
      "rowLimit": 10000
     },
     "inputWidgets": {},
     "nuid": "58579bcf-59ae-4e6b-9809-217d1dd68f13",
     "showTitle": false,
     "title": ""
    }
   },
   "outputs": [
    {
     "output_type": "stream",
     "name": "stdout",
     "output_type": "stream",
     "text": [
      "+-----------+---------+--------+------------+--------------+--------------------+-------------+\n|Customer_ID|Person_ID|Store_ID|Territory_ID|Account_Number|             rowguid|Modified_Date|\n+-----------+---------+--------+------------+--------------+--------------------+-------------+\n|          1|     NULL|     934|           1|    AW00000001|3f5ae95e-b87d-4ae...|   2014-09-12|\n|          2|     NULL|    1028|           1|    AW00000002|e552f657-a9af-4a7...|   2014-09-12|\n|          3|     NULL|     642|           4|    AW00000003|130774b1-db21-4ef...|   2014-09-12|\n|          4|     NULL|     932|           4|    AW00000004|ff862851-1daa-404...|   2014-09-12|\n|          5|     NULL|    1026|           4|    AW00000005|83905bdc-6f5e-4f7...|   2014-09-12|\n+-----------+---------+--------+------------+--------------+--------------------+-------------+\nonly showing top 5 rows\n\n"
     ]
    }
   ],
   "source": [
    "df.show(5)"
   ]
  },
  {
   "cell_type": "markdown",
   "metadata": {
    "application/vnd.databricks.v1+cell": {
     "cellMetadata": {},
     "inputWidgets": {},
     "nuid": "214625ab-b871-445c-b734-bbc3e084e4c1",
     "showTitle": false,
     "title": ""
    }
   },
   "source": [
    "# Doing transformation for all tables (Changing column names)"
   ]
  },
  {
   "cell_type": "code",
   "execution_count": 0,
   "metadata": {
    "application/vnd.databricks.v1+cell": {
     "cellMetadata": {
      "byteLimit": 2048000,
      "rowLimit": 10000
     },
     "inputWidgets": {},
     "nuid": "8d2d5981-f30d-4acc-b20c-a8cecc18357a",
     "showTitle": false,
     "title": ""
    }
   },
   "outputs": [],
   "source": [
    "table_name = []\n",
    "\n",
    "# Iterating through the silver container, getting the directory name, and appending it to the table name array.\n",
    "for i in dbutils.fs.ls('mnt/silver/Sales/'):        \n",
    "    table_name.append(i.name.split('/')[0])"
   ]
  },
  {
   "cell_type": "code",
   "execution_count": 0,
   "metadata": {
    "application/vnd.databricks.v1+cell": {
     "cellMetadata": {
      "byteLimit": 2048000,
      "rowLimit": 10000
     },
     "inputWidgets": {},
     "nuid": "4b1b099e-a9f3-4cc2-a1aa-4b26fbe85edd",
     "showTitle": false,
     "title": ""
    }
   },
   "outputs": [
    {
     "output_type": "execute_result",
     "data": {
      "text/plain": [
       "['CountryRegionCurrency',\n",
       " 'CreditCard',\n",
       " 'Currency',\n",
       " 'CurrencyRate',\n",
       " 'Customer',\n",
       " 'PersonCreditCard',\n",
       " 'SalesOrderDetail',\n",
       " 'SalesOrderHeader',\n",
       " 'SalesOrderHeaderSalesReason',\n",
       " 'SalesPerson',\n",
       " 'SalesPersonQuotaHistory',\n",
       " 'SalesReason',\n",
       " 'SalesTaxRate',\n",
       " 'SalesTerritory',\n",
       " 'SalesTerritoryHistory',\n",
       " 'ShoppingCartItem',\n",
       " 'SpecialOffer',\n",
       " 'SpecialOfferProduct',\n",
       " 'Store']"
      ]
     },
     "execution_count": 10,
     "metadata": {},
     "output_type": "execute_result"
    }
   ],
   "source": [
    "table_name"
   ]
  },
  {
   "cell_type": "markdown",
   "metadata": {
    "application/vnd.databricks.v1+cell": {
     "cellMetadata": {},
     "inputWidgets": {},
     "nuid": "89443a27-16f9-4c43-bb33-d71d33348e65",
     "showTitle": false,
     "title": ""
    }
   },
   "source": [
    "## Level2 Transformation"
   ]
  },
  {
   "cell_type": "code",
   "execution_count": 0,
   "metadata": {
    "application/vnd.databricks.v1+cell": {
     "cellMetadata": {
      "byteLimit": 2048000,
      "rowLimit": 10000
     },
     "inputWidgets": {},
     "nuid": "ab877d1c-8de8-424f-9e0a-16ce8a52ad77",
     "showTitle": false,
     "title": ""
    }
   },
   "outputs": [
    {
     "output_type": "stream",
     "name": "stdout",
     "output_type": "stream",
     "text": [
      "/mnt/silver/Sales/CountryRegionCurrency\n/mnt/silver/Sales/CreditCard\n/mnt/silver/Sales/Currency\n/mnt/silver/Sales/CurrencyRate\n/mnt/silver/Sales/Customer\n/mnt/silver/Sales/PersonCreditCard\n/mnt/silver/Sales/SalesOrderDetail\n/mnt/silver/Sales/SalesOrderHeader\n/mnt/silver/Sales/SalesOrderHeaderSalesReason\n/mnt/silver/Sales/SalesPerson\n/mnt/silver/Sales/SalesPersonQuotaHistory\n/mnt/silver/Sales/SalesReason\n/mnt/silver/Sales/SalesTaxRate\n/mnt/silver/Sales/SalesTerritory\n/mnt/silver/Sales/SalesTerritoryHistory\n/mnt/silver/Sales/ShoppingCartItem\n/mnt/silver/Sales/SpecialOffer\n/mnt/silver/Sales/SpecialOfferProduct\n/mnt/silver/Sales/Store\n"
     ]
    }
   ],
   "source": [
    "for name in table_name:\n",
    "    path = '/mnt/silver/Sales/' + name\n",
    "    print(path)\n",
    "    df = spark.read.format('delta').load(path)\n",
    "\n",
    "    #Obtaining list of columns\n",
    "    column_name = df.columns\n",
    "\n",
    "\n",
    "    for old_col_name in column_name:\n",
    "        #Convert ColumnName -> Column_Name format\n",
    "        new_col_name = \"\".join([\"_\" + char if char.isupper() and not old_col_name[i - 1].isupper() else char for i, char in enumerate(old_col_name)]).lstrip(\"_\")\n",
    "\n",
    "        #Change the column name using withColumnRename and regexp.replace\n",
    "        df = df.withColumnRenamed(old_col_name, new_col_name)\n",
    "\n",
    "    output_path = '/mnt/gold/Sales/' +name +'/'\n",
    "    df.write.format('delta').mode(\"overwrite\").save(output_path)"
   ]
  },
  {
   "cell_type": "code",
   "execution_count": 0,
   "metadata": {
    "application/vnd.databricks.v1+cell": {
     "cellMetadata": {
      "byteLimit": 2048000,
      "rowLimit": 10000
     },
     "inputWidgets": {},
     "nuid": "1f24eec1-42f6-4181-bf02-ac253087c81f",
     "showTitle": false,
     "title": ""
    }
   },
   "outputs": [
    {
     "output_type": "stream",
     "name": "stdout",
     "output_type": "stream",
     "text": [
      "+------------------+--------------------+---------------+--------------------+--------------------+-------------+\n|Business_Entity_ID|                Name|Sales_Person_ID|        Demographics|             rowguid|Modified_Date|\n+------------------+--------------------+---------------+--------------------+--------------------+-------------+\n|               292|Next-Door Bike Store|            279|<StoreSurvey xmln...|a22517e3-848d-4eb...|   2014-09-12|\n|               294|Professional Sale...|            276|<StoreSurvey xmln...|b50ca50b-c601-4a1...|   2014-09-12|\n|               296|      Riders Company|            277|<StoreSurvey xmln...|337c3688-1339-4e1...|   2014-09-12|\n|               298|  The Bike Mechanics|            275|<StoreSurvey xmln...|7894f278-f0c8-4d1...|   2014-09-12|\n|               300|   Nationwide Supply|            286|<StoreSurvey xmln...|c3fc9705-a8c4-4f3...|   2014-09-12|\n+------------------+--------------------+---------------+--------------------+--------------------+-------------+\nonly showing top 5 rows\n\n"
     ]
    }
   ],
   "source": [
    "#It will display the last item from th data frame\n",
    "df.show(5)"
   ]
  }
 ],
 "metadata": {
  "application/vnd.databricks.v1+notebook": {
   "dashboards": [],
   "language": "python",
   "notebookMetadata": {
    "pythonIndentUnit": 4
   },
   "notebookName": "silver to gold",
   "widgets": {}
  }
 },
 "nbformat": 4,
 "nbformat_minor": 0
}
